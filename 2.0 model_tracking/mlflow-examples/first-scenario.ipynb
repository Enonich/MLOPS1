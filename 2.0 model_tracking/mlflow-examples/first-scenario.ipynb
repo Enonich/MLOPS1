{
 "cells": [
  {
   "cell_type": "markdown",
   "id": "6c16ba00-bbfe-4f11-82b1-9ea1124d9045",
   "metadata": {},
   "source": [
    "## Scenario 1: A single data scientist participating in an ML competition\n",
    "\n",
    "MLflow setup:\n",
    "* Tracking server: no\n",
    "* Backend store: local filesystem\n",
    "* Artifacts store: local filesystem\n",
    "\n",
    "The experiments can be explored locally by launching the MLflow UI."
   ]
  },
  {
   "cell_type": "code",
   "execution_count": 1,
   "id": "e4870e3f-7bd2-4ff6-ad0a-85195af64fb8",
   "metadata": {},
   "outputs": [],
   "source": [
    "import mlflow\n",
    "\n",
    "from sklearn.linear_model import LogisticRegression\n",
    "from sklearn.datasets import load_iris\n",
    "from sklearn.metrics import accuracy_score"
   ]
  },
  {
   "cell_type": "code",
   "execution_count": 2,
   "id": "9a1e17ee-de1c-4257-a0af-d6c370383faf",
   "metadata": {},
   "outputs": [
    {
     "name": "stdout",
     "output_type": "stream",
     "text": [
      "tracking URI: 'file:///C:/Users/AIDOO%20K.%20ENOCH/Documents/GitHub/RGT/MLOPS/mlflow-examples/mlruns'\n"
     ]
    }
   ],
   "source": [
    "print(f\"tracking URI: '{mlflow.get_tracking_uri()}'\")\n"
   ]
  },
  {
   "cell_type": "code",
   "execution_count": 3,
   "id": "b34625c6-3f6f-4cc9-8632-a37bec7ced6c",
   "metadata": {},
   "outputs": [
    {
     "data": {
      "text/plain": [
       "[<Experiment: artifact_location='file:///C:/Users/AIDOO%20K.%20ENOCH/Documents/GitHub/RGT/MLOPS/mlflow-examples/mlruns/0', creation_time=1704118629615, experiment_id='0', last_update_time=1704118629615, lifecycle_stage='active', name='Default', tags={}>]"
      ]
     },
     "execution_count": 3,
     "metadata": {},
     "output_type": "execute_result"
    }
   ],
   "source": [
    "mlflow.search_experiments()"
   ]
  },
  {
   "cell_type": "markdown",
   "id": "3f054f77",
   "metadata": {},
   "source": [
    "### A New Experiment and Run Logging"
   ]
  },
  {
   "cell_type": "code",
   "execution_count": 4,
   "id": "e41b4143-79b8-4ca4-a54a-07445ef18d3c",
   "metadata": {},
   "outputs": [
    {
     "name": "stderr",
     "output_type": "stream",
     "text": [
      "2024/01/01 14:19:44 INFO mlflow.tracking.fluent: Experiment with name 'my-experiment-1' does not exist. Creating a new experiment.\n"
     ]
    },
    {
     "name": "stdout",
     "output_type": "stream",
     "text": [
      "default artifacts URI: 'file:///C:/Users/AIDOO%20K.%20ENOCH/Documents/GitHub/RGT/MLOPS/mlflow-examples/mlruns/707614282590127206/e6e7c3c755e146fca9ab881cb650206c/artifacts'\n"
     ]
    }
   ],
   "source": [
    "\n",
    "mlflow.set_experiment(\"my-experiment-1\")\n",
    "\n",
    "with mlflow.start_run():\n",
    "\n",
    "    X, y = load_iris(return_X_y=True)\n",
    "\n",
    "    params = {\"C\": 0.1, \"random_state\": 42}\n",
    "    mlflow.log_params(params)\n",
    "\n",
    "    lr = LogisticRegression(**params).fit(X, y)\n",
    "    y_pred = lr.predict(X)\n",
    "    mlflow.log_metric(\"accuracy\", accuracy_score(y, y_pred))\n",
    "\n",
    "    mlflow.sklearn.log_model(lr, artifact_path=\"models\")\n",
    "    print(f\"default artifacts URI: '{mlflow.get_artifact_uri()}'\")"
   ]
  },
  {
   "cell_type": "code",
   "execution_count": 5,
   "id": "70d99121",
   "metadata": {},
   "outputs": [
    {
     "data": {
      "text/plain": [
       "[<Experiment: artifact_location='file:///C:/Users/AIDOO%20K.%20ENOCH/Documents/GitHub/RGT/MLOPS/mlflow-examples/mlruns/707614282590127206', creation_time=1704118784806, experiment_id='707614282590127206', last_update_time=1704118784806, lifecycle_stage='active', name='my-experiment-1', tags={}>,\n",
       " <Experiment: artifact_location='file:///C:/Users/AIDOO%20K.%20ENOCH/Documents/GitHub/RGT/MLOPS/mlflow-examples/mlruns/0', creation_time=1704118629615, experiment_id='0', last_update_time=1704118629615, lifecycle_stage='active', name='Default', tags={}>]"
      ]
     },
     "execution_count": 5,
     "metadata": {},
     "output_type": "execute_result"
    }
   ],
   "source": [
    "mlflow.search_experiments()"
   ]
  },
  {
   "cell_type": "markdown",
   "id": "ed62701d-dd20-4000-a0ec-8c676ecf980e",
   "metadata": {},
   "source": [
    "### Model Registry Interaction"
   ]
  },
  {
   "cell_type": "code",
   "execution_count": 6,
   "id": "904c12f1-41d5-4117-9d97-56adbf303943",
   "metadata": {},
   "outputs": [],
   "source": [
    "from mlflow.tracking import MlflowClient\n",
    "\n",
    "\n",
    "client = MlflowClient()"
   ]
  },
  {
   "cell_type": "code",
   "execution_count": 9,
   "id": "cd502169",
   "metadata": {},
   "outputs": [],
   "source": [
    "from mlflow.exceptions import MlflowException\n",
    "\n",
    "try:\n",
    "    client.search_registered_models()\n",
    "except MlflowException:\n",
    "    print(\"It's not possible to access the model registry :(\")"
   ]
  },
  {
   "cell_type": "code",
   "execution_count": null,
   "id": "37fe78eb-d1a6-4c07-9248-1df299604af9",
   "metadata": {},
   "outputs": [],
   "source": []
  }
 ],
 "metadata": {
  "kernelspec": {
   "display_name": "Python 3 (ipykernel)",
   "language": "python",
   "name": "python3"
  },
  "language_info": {
   "codemirror_mode": {
    "name": "ipython",
    "version": 3
   },
   "file_extension": ".py",
   "mimetype": "text/x-python",
   "name": "python",
   "nbconvert_exporter": "python",
   "pygments_lexer": "ipython3",
   "version": "3.9.18"
  }
 },
 "nbformat": 4,
 "nbformat_minor": 5
}
