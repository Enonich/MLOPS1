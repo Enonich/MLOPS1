{
 "cells": [
  {
   "cell_type": "markdown",
   "id": "fbd33b2a-e39f-401a-8c24-343899ae804a",
   "metadata": {},
   "source": [
    "### INTERACTING WITH MLFLOW_CLIENT"
   ]
  },
  {
   "cell_type": "code",
   "execution_count": 3,
   "id": "892d3296-1a16-4ee6-8e1b-934365e07fb8",
   "metadata": {},
   "outputs": [],
   "source": [
    "from mlflow.tracking import MlflowClient\n",
    "\n",
    "MLFLOW_TRACKING_URI = \"sqlite:///mydb.sqlite\"\n",
    "\n",
    "client = MlflowClient(tracking_uri=MLFLOW_TRACKING_URI)"
   ]
  },
  {
   "cell_type": "code",
   "execution_count": 4,
   "id": "effe75f8-deaa-4226-a269-03f8c5813039",
   "metadata": {},
   "outputs": [
    {
     "data": {
      "text/plain": [
       "[<Experiment: artifact_location='file:///C:/Users/AIDOO K. ENOCH/Documents/GitHub/RGT/MLOPS/mlruns/1', creation_time=1703064795646, experiment_id='1', last_update_time=1703064795646, lifecycle_stage='active', name='nyc-taxi-experiment', tags={}>,\n",
       " <Experiment: artifact_location='mlflow-artifacts:/0', creation_time=1703064598517, experiment_id='0', last_update_time=1703064598517, lifecycle_stage='active', name='Default', tags={}>]"
      ]
     },
     "execution_count": 4,
     "metadata": {},
     "output_type": "execute_result"
    }
   ],
   "source": [
    "client.search_experiments()"
   ]
  },
  {
   "cell_type": "markdown",
   "id": "32c40e84-749b-4022-89b0-f8ad01421de1",
   "metadata": {},
   "source": [
    "### REGISTERING A NEW MODEL"
   ]
  },
  {
   "cell_type": "code",
   "execution_count": null,
   "id": "b85827ac-25b0-463b-87bc-6a7a5cf242b8",
   "metadata": {},
   "outputs": [],
   "source": [
    "client.create_experiment(name='my-cool-experiment')"
   ]
  },
  {
   "cell_type": "code",
   "execution_count": 8,
   "id": "b8c3e948-f9fc-4071-a640-74044d7614ac",
   "metadata": {},
   "outputs": [],
   "source": [
    "from mlflow.entities import ViewType\n",
    "runs = client.search_runs(\n",
    "    experiment_ids = '1',\n",
    "    filter_string = \"\",\n",
    "    run_view_type = ViewType.ACTIVE_ONLY,\n",
    "    max_results = 5, \n",
    "    order_by = [\"metrics.rmse ASC\"]\n",
    ")"
   ]
  },
  {
   "cell_type": "code",
   "execution_count": 9,
   "id": "6de2812d-a5b1-4934-be93-c95d4d566cad",
   "metadata": {},
   "outputs": [
    {
     "data": {
      "text/plain": [
       "[<Run: data=<RunData: metrics={'rmse': 6.290959025049041}, params={'learning_rate': '0.20472169880371677',\n",
       "  'max_depth': '17',\n",
       "  'min_child_weight': '1.240261172',\n",
       "  'objective': 'reg:linear',\n",
       "  'reg_alpha': '0.28567896',\n",
       "  'reg_lambda': '0.00426448',\n",
       "  'seed': '42'}, tags={'mlflow.log-model.history': '[{\"run_id\": \"eb7e043a05c24fa88d057919d46c3435\", '\n",
       "                              '\"artifact_path\": \"models_mlflow\", '\n",
       "                              '\"utc_time_created\": \"2023-12-20 '\n",
       "                              '15:09:03.091130\", \"flavors\": {\"python_function\": '\n",
       "                              '{\"loader_module\": \"mlflow.xgboost\", '\n",
       "                              '\"python_version\": \"3.11.4\", \"data\": \"model.xgb\", '\n",
       "                              '\"env\": {\"conda\": \"conda.yaml\", \"virtualenv\": '\n",
       "                              '\"python_env.yaml\"}}, \"xgboost\": {\"xgb_version\": '\n",
       "                              '\"1.7.6\", \"data\": \"model.xgb\", \"model_class\": '\n",
       "                              '\"xgboost.core.Booster\", \"model_format\": \"xgb\", '\n",
       "                              '\"code\": null}}, \"model_uuid\": '\n",
       "                              '\"c8333b09cff64140aa1777b880743acd\", '\n",
       "                              '\"mlflow_version\": \"2.9.2\", \"model_size_bytes\": '\n",
       "                              '3691777}]',\n",
       "  'mlflow.runName': 'nebulous-newt-965',\n",
       "  'mlflow.source.name': 'C:\\\\Users\\\\AIDOO K. '\n",
       "                        'ENOCH\\\\AppData\\\\Roaming\\\\Python\\\\Python311\\\\site-packages\\\\ipykernel_launcher.py',\n",
       "  'mlflow.source.type': 'LOCAL',\n",
       "  'mlflow.user': 'AIDOO K. ENOCH'}>, info=<RunInfo: artifact_uri=('file:///C:/Users/AIDOO K. '\n",
       "  'ENOCH/Documents/GitHub/RGT/MLOPS/mlruns/1/eb7e043a05c24fa88d057919d46c3435/artifacts'), end_time=1703084947400, experiment_id='1', lifecycle_stage='active', run_id='eb7e043a05c24fa88d057919d46c3435', run_name='nebulous-newt-965', run_uuid='eb7e043a05c24fa88d057919d46c3435', start_time=1703084802107, status='FINISHED', user_id='AIDOO K. ENOCH'>, inputs=<RunInputs: dataset_inputs=[]>>,\n",
       " <Run: data=<RunData: metrics={'best_iteration': 998.0,\n",
       "  'rmse': 6.290959025049041,\n",
       "  'stopped_iteration': 999.0,\n",
       "  'validation-rmse': 6.290928872464814}, params={'custom_metric': 'None',\n",
       "  'early_stopping_rounds': '50',\n",
       "  'learning_rate': '0.20472169880371677',\n",
       "  'max_depth': '17',\n",
       "  'maximize': 'None',\n",
       "  'min_child_weight': '1.240261172',\n",
       "  'num_boost_round': '1000',\n",
       "  'objective': 'reg:linear',\n",
       "  'reg_alpha': '0.28567896',\n",
       "  'reg_lambda': '0.00426448',\n",
       "  'seed': '42',\n",
       "  'verbose_eval': 'True'}, tags={'mlflow.log-model.history': '[{\"run_id\": \"414327c4f9414860af276b483d00f8fd\", '\n",
       "                              '\"artifact_path\": \"model\", \"utc_time_created\": '\n",
       "                              '\"2023-12-20 14:58:09.930556\", \"flavors\": '\n",
       "                              '{\"python_function\": {\"loader_module\": '\n",
       "                              '\"mlflow.xgboost\", \"python_version\": \"3.11.4\", '\n",
       "                              '\"data\": \"model.xgb\", \"env\": {\"conda\": '\n",
       "                              '\"conda.yaml\", \"virtualenv\": \"python_env.yaml\"}}, '\n",
       "                              '\"xgboost\": {\"xgb_version\": \"1.7.6\", \"data\": '\n",
       "                              '\"model.xgb\", \"model_class\": '\n",
       "                              '\"xgboost.core.Booster\", \"model_format\": \"xgb\", '\n",
       "                              '\"code\": null}}, \"model_uuid\": '\n",
       "                              '\"8a4ff71ad098436a9cfc3051cadce3f3\", '\n",
       "                              '\"mlflow_version\": \"2.9.2\", \"model_size_bytes\": '\n",
       "                              '3691777}, {\"run_id\": '\n",
       "                              '\"414327c4f9414860af276b483d00f8fd\", '\n",
       "                              '\"artifact_path\": \"models_mlflow\", '\n",
       "                              '\"utc_time_created\": \"2023-12-20 '\n",
       "                              '14:58:17.323796\", \"flavors\": {\"python_function\": '\n",
       "                              '{\"loader_module\": \"mlflow.xgboost\", '\n",
       "                              '\"python_version\": \"3.11.4\", \"data\": \"model.xgb\", '\n",
       "                              '\"env\": {\"conda\": \"conda.yaml\", \"virtualenv\": '\n",
       "                              '\"python_env.yaml\"}}, \"xgboost\": {\"xgb_version\": '\n",
       "                              '\"1.7.6\", \"data\": \"model.xgb\", \"model_class\": '\n",
       "                              '\"xgboost.core.Booster\", \"model_format\": \"xgb\", '\n",
       "                              '\"code\": null}}, \"model_uuid\": '\n",
       "                              '\"ee10151a771c49c7a16b38d375172c0b\", '\n",
       "                              '\"mlflow_version\": \"2.9.2\", \"model_size_bytes\": '\n",
       "                              '3691777}]',\n",
       "  'mlflow.runName': 'honorable-crow-835',\n",
       "  'mlflow.source.name': 'C:\\\\Users\\\\AIDOO K. '\n",
       "                        'ENOCH\\\\AppData\\\\Roaming\\\\Python\\\\Python311\\\\site-packages\\\\ipykernel_launcher.py',\n",
       "  'mlflow.source.type': 'LOCAL',\n",
       "  'mlflow.user': 'AIDOO K. ENOCH'}>, info=<RunInfo: artifact_uri=('file:///C:/Users/AIDOO K. '\n",
       "  'ENOCH/Documents/GitHub/RGT/MLOPS/mlruns/1/414327c4f9414860af276b483d00f8fd/artifacts'), end_time=1703084301556, experiment_id='1', lifecycle_stage='active', run_id='414327c4f9414860af276b483d00f8fd', run_name='honorable-crow-835', run_uuid='414327c4f9414860af276b483d00f8fd', start_time=1703084083124, status='FINISHED', user_id='AIDOO K. ENOCH'>, inputs=<RunInputs: dataset_inputs=[<DatasetInput: dataset=<Dataset: digest='4c74e29a', name='dataset', profile=('{\"features_shape\": [73908, 13221], \"features_size\": 977137668, '\n",
       "  '\"features_nbytes\": 3908550672}'), schema=('{\"mlflow_tensorspec\": {\"features\": \"[{\\\\\"type\\\\\": \\\\\"tensor\\\\\", '\n",
       "  '\\\\\"tensor-spec\\\\\": {\\\\\"dtype\\\\\": \\\\\"float32\\\\\", \\\\\"shape\\\\\": [-1, '\n",
       "  '13221]}}]\", \"targets\": null}}'), source=('{\"tags\": {\"mlflow.user\": \"AIDOO K. ENOCH\", \"mlflow.source.name\": '\n",
       "  '\"C:\\\\\\\\Users\\\\\\\\AIDOO K. '\n",
       "  'ENOCH\\\\\\\\AppData\\\\\\\\Roaming\\\\\\\\Python\\\\\\\\Python311\\\\\\\\site-packages\\\\\\\\ipykernel_launcher.py\", '\n",
       "  '\"mlflow.source.type\": \"LOCAL\"}}'), source_type='code'>, tags=[<InputTag: key='mlflow.data.context', value='train'>]>,\n",
       "  <DatasetInput: dataset=<Dataset: digest='0f5f0969', name='validation', profile=('{\"features_shape\": [61921, 13221], \"features_size\": 818657541, '\n",
       "  '\"features_nbytes\": 3274630164}'), schema=('{\"mlflow_tensorspec\": {\"features\": \"[{\\\\\"type\\\\\": \\\\\"tensor\\\\\", '\n",
       "  '\\\\\"tensor-spec\\\\\": {\\\\\"dtype\\\\\": \\\\\"float32\\\\\", \\\\\"shape\\\\\": [-1, '\n",
       "  '13221]}}]\", \"targets\": null}}'), source=('{\"tags\": {\"mlflow.user\": \"AIDOO K. ENOCH\", \"mlflow.source.name\": '\n",
       "  '\"C:\\\\\\\\Users\\\\\\\\AIDOO K. '\n",
       "  'ENOCH\\\\\\\\AppData\\\\\\\\Roaming\\\\\\\\Python\\\\\\\\Python311\\\\\\\\site-packages\\\\\\\\ipykernel_launcher.py\", '\n",
       "  '\"mlflow.source.type\": \"LOCAL\"}}'), source_type='code'>, tags=[<InputTag: key='mlflow.data.context', value='eval'>]>]>>,\n",
       " <Run: data=<RunData: metrics={'best_iteration': 280.0,\n",
       "  'rmse': 6.318491717674786,\n",
       "  'stopped_iteration': 329.0,\n",
       "  'validation-rmse': 6.317091256832553}, params={'custom_metric': 'None',\n",
       "  'early_stopping_rounds': '50',\n",
       "  'learning_rate': '0.16700152370843419',\n",
       "  'max_depth': '71',\n",
       "  'maximize': 'None',\n",
       "  'min_child_weight': '1.8040850589176225',\n",
       "  'num_boost_round': '1000',\n",
       "  'objective': 'reg:linear',\n",
       "  'reg_alpha': '0.07793858404728049',\n",
       "  'reg_lambda': '0.10376945180254843',\n",
       "  'seed': '42',\n",
       "  'verbose_eval': 'True'}, tags={'mlflow.log-model.history': '[{\"run_id\": \"8460feb4ddfe4cd38df1b846943a1a5f\", '\n",
       "                              '\"artifact_path\": \"model\", \"utc_time_created\": '\n",
       "                              '\"2023-12-29 00:12:49.813717\", \"flavors\": '\n",
       "                              '{\"python_function\": {\"loader_module\": '\n",
       "                              '\"mlflow.xgboost\", \"python_version\": \"3.9.18\", '\n",
       "                              '\"data\": \"model.xgb\", \"env\": {\"conda\": '\n",
       "                              '\"conda.yaml\", \"virtualenv\": \"python_env.yaml\"}}, '\n",
       "                              '\"xgboost\": {\"xgb_version\": \"2.0.2\", \"data\": '\n",
       "                              '\"model.xgb\", \"model_class\": '\n",
       "                              '\"xgboost.core.Booster\", \"model_format\": \"xgb\", '\n",
       "                              '\"code\": null}}, \"model_uuid\": '\n",
       "                              '\"9eaad98e625543c3ae4189ba0357402f\", '\n",
       "                              '\"mlflow_version\": \"2.9.2\", \"model_size_bytes\": '\n",
       "                              '8109170}]',\n",
       "  'mlflow.runName': 'rare-deer-984',\n",
       "  'mlflow.source.name': 'C:\\\\Users\\\\AIDOO K. '\n",
       "                        'ENOCH\\\\.conda\\\\envs\\\\exp-tracking-env\\\\lib\\\\site-packages\\\\ipykernel_launcher.py',\n",
       "  'mlflow.source.type': 'LOCAL',\n",
       "  'mlflow.user': 'AIDOO K. ENOCH',\n",
       "  'model': 'xgboost'}>, info=<RunInfo: artifact_uri=('file:///C:/Users/AIDOO K. '\n",
       "  'ENOCH/Documents/GitHub/RGT/MLOPS/mlruns/1/8460feb4ddfe4cd38df1b846943a1a5f/artifacts'), end_time=1703808777313, experiment_id='1', lifecycle_stage='active', run_id='8460feb4ddfe4cd38df1b846943a1a5f', run_name='rare-deer-984', run_uuid='8460feb4ddfe4cd38df1b846943a1a5f', start_time=1703808466758, status='FINISHED', user_id='AIDOO K. ENOCH'>, inputs=<RunInputs: dataset_inputs=[<DatasetInput: dataset=<Dataset: digest='4c74e29a', name='dataset', profile=('{\"features_shape\": [73908, 13221], \"features_size\": 977137668, '\n",
       "  '\"features_nbytes\": 3908550672}'), schema=('{\"mlflow_tensorspec\": {\"features\": \"[{\\\\\"type\\\\\": \\\\\"tensor\\\\\", '\n",
       "  '\\\\\"tensor-spec\\\\\": {\\\\\"dtype\\\\\": \\\\\"float32\\\\\", \\\\\"shape\\\\\": [-1, '\n",
       "  '13221]}}]\", \"targets\": null}}'), source=('{\"tags\": {\"mlflow.user\": \"AIDOO K. ENOCH\", \"mlflow.source.name\": '\n",
       "  '\"C:\\\\\\\\Users\\\\\\\\AIDOO K. '\n",
       "  'ENOCH\\\\\\\\AppData\\\\\\\\Roaming\\\\\\\\Python\\\\\\\\Python311\\\\\\\\site-packages\\\\\\\\ipykernel_launcher.py\", '\n",
       "  '\"mlflow.source.type\": \"LOCAL\"}}'), source_type='code'>, tags=[<InputTag: key='mlflow.data.context', value='train'>]>,\n",
       "  <DatasetInput: dataset=<Dataset: digest='0f5f0969', name='validation', profile=('{\"features_shape\": [61921, 13221], \"features_size\": 818657541, '\n",
       "  '\"features_nbytes\": 3274630164}'), schema=('{\"mlflow_tensorspec\": {\"features\": \"[{\\\\\"type\\\\\": \\\\\"tensor\\\\\", '\n",
       "  '\\\\\"tensor-spec\\\\\": {\\\\\"dtype\\\\\": \\\\\"float32\\\\\", \\\\\"shape\\\\\": [-1, '\n",
       "  '13221]}}]\", \"targets\": null}}'), source=('{\"tags\": {\"mlflow.user\": \"AIDOO K. ENOCH\", \"mlflow.source.name\": '\n",
       "  '\"C:\\\\\\\\Users\\\\\\\\AIDOO K. '\n",
       "  'ENOCH\\\\\\\\AppData\\\\\\\\Roaming\\\\\\\\Python\\\\\\\\Python311\\\\\\\\site-packages\\\\\\\\ipykernel_launcher.py\", '\n",
       "  '\"mlflow.source.type\": \"LOCAL\"}}'), source_type='code'>, tags=[<InputTag: key='mlflow.data.context', value='eval'>]>]>>,\n",
       " <Run: data=<RunData: metrics={'best_iteration': 277.0,\n",
       "  'rmse': 6.331426638155702,\n",
       "  'stopped_iteration': 327.0,\n",
       "  'validation-rmse': 6.328893244595068}, params={'custom_metric': 'None',\n",
       "  'early_stopping_rounds': '50',\n",
       "  'learning_rate': '0.21752911395109814',\n",
       "  'max_depth': '87',\n",
       "  'maximize': 'None',\n",
       "  'min_child_weight': '2.502969419772435',\n",
       "  'num_boost_round': '1000',\n",
       "  'objective': 'reg:linear',\n",
       "  'reg_alpha': '0.27655382674892975',\n",
       "  'reg_lambda': '0.024616348777256807',\n",
       "  'seed': '42',\n",
       "  'verbose_eval': 'True'}, tags={'mlflow.log-model.history': '[{\"run_id\": \"7c800b7172894cc786cbe70043ff2ad5\", '\n",
       "                              '\"artifact_path\": \"model\", \"utc_time_created\": '\n",
       "                              '\"2023-12-28 23:32:22.518472\", \"flavors\": '\n",
       "                              '{\"python_function\": {\"loader_module\": '\n",
       "                              '\"mlflow.xgboost\", \"python_version\": \"3.9.18\", '\n",
       "                              '\"data\": \"model.xgb\", \"env\": {\"conda\": '\n",
       "                              '\"conda.yaml\", \"virtualenv\": \"python_env.yaml\"}}, '\n",
       "                              '\"xgboost\": {\"xgb_version\": \"2.0.2\", \"data\": '\n",
       "                              '\"model.xgb\", \"model_class\": '\n",
       "                              '\"xgboost.core.Booster\", \"model_format\": \"xgb\", '\n",
       "                              '\"code\": null}}, \"model_uuid\": '\n",
       "                              '\"9f3238f1c1314fdfa9892934cc3dd4ad\", '\n",
       "                              '\"mlflow_version\": \"2.9.2\", \"model_size_bytes\": '\n",
       "                              '8564222}]',\n",
       "  'mlflow.runName': 'illustrious-pug-467',\n",
       "  'mlflow.source.name': 'C:\\\\Users\\\\AIDOO K. '\n",
       "                        'ENOCH\\\\.conda\\\\envs\\\\exp-tracking-env\\\\lib\\\\site-packages\\\\ipykernel_launcher.py',\n",
       "  'mlflow.source.type': 'LOCAL',\n",
       "  'mlflow.user': 'AIDOO K. ENOCH',\n",
       "  'model': 'xgboost'}>, info=<RunInfo: artifact_uri=('file:///C:/Users/AIDOO K. '\n",
       "  'ENOCH/Documents/GitHub/RGT/MLOPS/mlruns/1/7c800b7172894cc786cbe70043ff2ad5/artifacts'), end_time=1703806351674, experiment_id='1', lifecycle_stage='active', run_id='7c800b7172894cc786cbe70043ff2ad5', run_name='illustrious-pug-467', run_uuid='7c800b7172894cc786cbe70043ff2ad5', start_time=1703806062752, status='FINISHED', user_id='AIDOO K. ENOCH'>, inputs=<RunInputs: dataset_inputs=[<DatasetInput: dataset=<Dataset: digest='4c74e29a', name='dataset', profile=('{\"features_shape\": [73908, 13221], \"features_size\": 977137668, '\n",
       "  '\"features_nbytes\": 3908550672}'), schema=('{\"mlflow_tensorspec\": {\"features\": \"[{\\\\\"type\\\\\": \\\\\"tensor\\\\\", '\n",
       "  '\\\\\"tensor-spec\\\\\": {\\\\\"dtype\\\\\": \\\\\"float32\\\\\", \\\\\"shape\\\\\": [-1, '\n",
       "  '13221]}}]\", \"targets\": null}}'), source=('{\"tags\": {\"mlflow.user\": \"AIDOO K. ENOCH\", \"mlflow.source.name\": '\n",
       "  '\"C:\\\\\\\\Users\\\\\\\\AIDOO K. '\n",
       "  'ENOCH\\\\\\\\AppData\\\\\\\\Roaming\\\\\\\\Python\\\\\\\\Python311\\\\\\\\site-packages\\\\\\\\ipykernel_launcher.py\", '\n",
       "  '\"mlflow.source.type\": \"LOCAL\"}}'), source_type='code'>, tags=[<InputTag: key='mlflow.data.context', value='train'>]>,\n",
       "  <DatasetInput: dataset=<Dataset: digest='0f5f0969', name='validation', profile=('{\"features_shape\": [61921, 13221], \"features_size\": 818657541, '\n",
       "  '\"features_nbytes\": 3274630164}'), schema=('{\"mlflow_tensorspec\": {\"features\": \"[{\\\\\"type\\\\\": \\\\\"tensor\\\\\", '\n",
       "  '\\\\\"tensor-spec\\\\\": {\\\\\"dtype\\\\\": \\\\\"float32\\\\\", \\\\\"shape\\\\\": [-1, '\n",
       "  '13221]}}]\", \"targets\": null}}'), source=('{\"tags\": {\"mlflow.user\": \"AIDOO K. ENOCH\", \"mlflow.source.name\": '\n",
       "  '\"C:\\\\\\\\Users\\\\\\\\AIDOO K. '\n",
       "  'ENOCH\\\\\\\\AppData\\\\\\\\Roaming\\\\\\\\Python\\\\\\\\Python311\\\\\\\\site-packages\\\\\\\\ipykernel_launcher.py\", '\n",
       "  '\"mlflow.source.type\": \"LOCAL\"}}'), source_type='code'>, tags=[<InputTag: key='mlflow.data.context', value='eval'>]>]>>,\n",
       " <Run: data=<RunData: metrics={'best_iteration': 380.0,\n",
       "  'rmse': 6.332826946610022,\n",
       "  'stopped_iteration': 430.0,\n",
       "  'validation-rmse': 6.328557201848713}, params={'custom_metric': 'None',\n",
       "  'early_stopping_rounds': '50',\n",
       "  'learning_rate': '0.14694193780530432',\n",
       "  'max_depth': '83',\n",
       "  'maximize': 'None',\n",
       "  'min_child_weight': '1.2968552983198327',\n",
       "  'num_boost_round': '1000',\n",
       "  'objective': 'reg:linear',\n",
       "  'reg_alpha': '0.08483982585547904',\n",
       "  'reg_lambda': '0.01622287267629903',\n",
       "  'seed': '42',\n",
       "  'verbose_eval': 'True'}, tags={'mlflow.log-model.history': '[{\"run_id\": \"41b9e385bd0c4ff4877ba4cf24ea6f77\", '\n",
       "                              '\"artifact_path\": \"model\", \"utc_time_created\": '\n",
       "                              '\"2023-12-29 00:00:12.165040\", \"flavors\": '\n",
       "                              '{\"python_function\": {\"loader_module\": '\n",
       "                              '\"mlflow.xgboost\", \"python_version\": \"3.9.18\", '\n",
       "                              '\"data\": \"model.xgb\", \"env\": {\"conda\": '\n",
       "                              '\"conda.yaml\", \"virtualenv\": \"python_env.yaml\"}}, '\n",
       "                              '\"xgboost\": {\"xgb_version\": \"2.0.2\", \"data\": '\n",
       "                              '\"model.xgb\", \"model_class\": '\n",
       "                              '\"xgboost.core.Booster\", \"model_format\": \"xgb\", '\n",
       "                              '\"code\": null}}, \"model_uuid\": '\n",
       "                              '\"e17693efb3804d708a2dff28c42e1f88\", '\n",
       "                              '\"mlflow_version\": \"2.9.2\", \"model_size_bytes\": '\n",
       "                              '12436090}]',\n",
       "  'mlflow.runName': 'intrigued-owl-843',\n",
       "  'mlflow.source.name': 'C:\\\\Users\\\\AIDOO K. '\n",
       "                        'ENOCH\\\\.conda\\\\envs\\\\exp-tracking-env\\\\lib\\\\site-packages\\\\ipykernel_launcher.py',\n",
       "  'mlflow.source.type': 'LOCAL',\n",
       "  'mlflow.user': 'AIDOO K. ENOCH',\n",
       "  'model': 'xgboost'}>, info=<RunInfo: artifact_uri=('file:///C:/Users/AIDOO K. '\n",
       "  'ENOCH/Documents/GitHub/RGT/MLOPS/mlruns/1/41b9e385bd0c4ff4877ba4cf24ea6f77/artifacts'), end_time=1703808021706, experiment_id='1', lifecycle_stage='active', run_id='41b9e385bd0c4ff4877ba4cf24ea6f77', run_name='intrigued-owl-843', run_uuid='41b9e385bd0c4ff4877ba4cf24ea6f77', start_time=1703807625068, status='FINISHED', user_id='AIDOO K. ENOCH'>, inputs=<RunInputs: dataset_inputs=[<DatasetInput: dataset=<Dataset: digest='4c74e29a', name='dataset', profile=('{\"features_shape\": [73908, 13221], \"features_size\": 977137668, '\n",
       "  '\"features_nbytes\": 3908550672}'), schema=('{\"mlflow_tensorspec\": {\"features\": \"[{\\\\\"type\\\\\": \\\\\"tensor\\\\\", '\n",
       "  '\\\\\"tensor-spec\\\\\": {\\\\\"dtype\\\\\": \\\\\"float32\\\\\", \\\\\"shape\\\\\": [-1, '\n",
       "  '13221]}}]\", \"targets\": null}}'), source=('{\"tags\": {\"mlflow.user\": \"AIDOO K. ENOCH\", \"mlflow.source.name\": '\n",
       "  '\"C:\\\\\\\\Users\\\\\\\\AIDOO K. '\n",
       "  'ENOCH\\\\\\\\AppData\\\\\\\\Roaming\\\\\\\\Python\\\\\\\\Python311\\\\\\\\site-packages\\\\\\\\ipykernel_launcher.py\", '\n",
       "  '\"mlflow.source.type\": \"LOCAL\"}}'), source_type='code'>, tags=[<InputTag: key='mlflow.data.context', value='train'>]>,\n",
       "  <DatasetInput: dataset=<Dataset: digest='0f5f0969', name='validation', profile=('{\"features_shape\": [61921, 13221], \"features_size\": 818657541, '\n",
       "  '\"features_nbytes\": 3274630164}'), schema=('{\"mlflow_tensorspec\": {\"features\": \"[{\\\\\"type\\\\\": \\\\\"tensor\\\\\", '\n",
       "  '\\\\\"tensor-spec\\\\\": {\\\\\"dtype\\\\\": \\\\\"float32\\\\\", \\\\\"shape\\\\\": [-1, '\n",
       "  '13221]}}]\", \"targets\": null}}'), source=('{\"tags\": {\"mlflow.user\": \"AIDOO K. ENOCH\", \"mlflow.source.name\": '\n",
       "  '\"C:\\\\\\\\Users\\\\\\\\AIDOO K. '\n",
       "  'ENOCH\\\\\\\\AppData\\\\\\\\Roaming\\\\\\\\Python\\\\\\\\Python311\\\\\\\\site-packages\\\\\\\\ipykernel_launcher.py\", '\n",
       "  '\"mlflow.source.type\": \"LOCAL\"}}'), source_type='code'>, tags=[<InputTag: key='mlflow.data.context', value='eval'>]>]>>]"
      ]
     },
     "execution_count": 9,
     "metadata": {},
     "output_type": "execute_result"
    }
   ],
   "source": [
    "runs"
   ]
  },
  {
   "cell_type": "code",
   "execution_count": 11,
   "id": "3b1aad35-7361-452c-9b40-a86c13b44f4d",
   "metadata": {},
   "outputs": [
    {
     "name": "stdout",
     "output_type": "stream",
     "text": [
      "run id: eb7e043a05c24fa88d057919d46c3435, rmse: 6.2910\n",
      "run id: 414327c4f9414860af276b483d00f8fd, rmse: 6.2910\n",
      "run id: 8460feb4ddfe4cd38df1b846943a1a5f, rmse: 6.3185\n",
      "run id: 7c800b7172894cc786cbe70043ff2ad5, rmse: 6.3314\n",
      "run id: 41b9e385bd0c4ff4877ba4cf24ea6f77, rmse: 6.3328\n"
     ]
    }
   ],
   "source": [
    "for run in runs:\n",
    "    print(f\"run id: {run.info.run_id}, rmse: {run.data.metrics['rmse']:.4f}\")"
   ]
  },
  {
   "cell_type": "code",
   "execution_count": 14,
   "id": "4b7c7021-7d76-4363-8416-ec69bc29173e",
   "metadata": {},
   "outputs": [],
   "source": [
    "runs = client.search_runs(\n",
    "    experiment_ids = '1',\n",
    "    filter_string = \"metrics.rmse < 6.3\",\n",
    "    run_view_type = ViewType.ACTIVE_ONLY,\n",
    "    max_results = 5, \n",
    "    order_by = [\"metrics.rmse ASC\"]\n",
    ")"
   ]
  },
  {
   "cell_type": "code",
   "execution_count": 15,
   "id": "f9ff740a-5c25-46b0-bce3-0450e4de5ae4",
   "metadata": {},
   "outputs": [
    {
     "name": "stdout",
     "output_type": "stream",
     "text": [
      "run id: eb7e043a05c24fa88d057919d46c3435, rmse: 6.2910\n",
      "run id: 414327c4f9414860af276b483d00f8fd, rmse: 6.2910\n"
     ]
    }
   ],
   "source": [
    "for run in runs:\n",
    "    print(f\"run id: {run.info.run_id}, rmse: {run.data.metrics['rmse']:.4f}\")"
   ]
  },
  {
   "cell_type": "code",
   "execution_count": 16,
   "id": "23edb5be-b133-4541-8b7f-622e26657f16",
   "metadata": {},
   "outputs": [],
   "source": [
    "import mlflow\n",
    "\n",
    "mlflow.set_tracking_uri(MLFLOW_TRACKING_URI)"
   ]
  },
  {
   "cell_type": "code",
   "execution_count": 18,
   "id": "590242b8-3500-40a0-ae73-49ac77e54441",
   "metadata": {},
   "outputs": [
    {
     "name": "stderr",
     "output_type": "stream",
     "text": [
      "Registered model 'nyc-taxi-regressor' already exists. Creating a new version of this model...\n",
      "Created version '3' of model 'nyc-taxi-regressor'.\n"
     ]
    },
    {
     "data": {
      "text/plain": [
       "<ModelVersion: aliases=[], creation_timestamp=1703812349799, current_stage='None', description=None, last_updated_timestamp=1703812349799, name='nyc-taxi-regressor', run_id='7c800b7172894cc786cbe70043ff2ad5', run_link=None, source=('file:///C:/Users/AIDOO K. '\n",
       " 'ENOCH/Documents/GitHub/RGT/MLOPS/mlruns/1/7c800b7172894cc786cbe70043ff2ad5/artifacts/model'), status='READY', status_message=None, tags={}, user_id=None, version=3>"
      ]
     },
     "execution_count": 18,
     "metadata": {},
     "output_type": "execute_result"
    }
   ],
   "source": [
    "run_id = \"7c800b7172894cc786cbe70043ff2ad5\"\n",
    "model_uri = f\"runs:/{run_id}/model\"\n",
    "mlflow.register_model(model_uri=model_uri, name=\"nyc-taxi-regressor\")"
   ]
  },
  {
   "cell_type": "code",
   "execution_count": 19,
   "id": "37229371-8518-4adb-a9ec-e423f441416f",
   "metadata": {},
   "outputs": [
    {
     "data": {
      "text/plain": [
       "'runs:/7c800b7172894cc786cbe70043ff2ad5/model'"
      ]
     },
     "execution_count": 19,
     "metadata": {},
     "output_type": "execute_result"
    }
   ],
   "source": [
    "model_uri"
   ]
  },
  {
   "cell_type": "markdown",
   "id": "c047c3d8-931e-43dd-bb23-427c8e29c08c",
   "metadata": {},
   "source": [
    "### MODEL TRANSITIONING"
   ]
  },
  {
   "cell_type": "code",
   "execution_count": 20,
   "id": "f953d035-dbf3-4af2-aa4d-c386f659520b",
   "metadata": {},
   "outputs": [
    {
     "data": {
      "text/plain": [
       "[<RegisteredModel: aliases={}, creation_timestamp=1703809851800, description='The NYC Taxi Predictor for Trip Duration\\n', last_updated_timestamp=1703812349799, latest_versions=[<ModelVersion: aliases=[], creation_timestamp=1703809870068, current_stage='Staging', description='', last_updated_timestamp=1703810317336, name='nyc-taxi-regressor', run_id='8460feb4ddfe4cd38df1b846943a1a5f', run_link='', source=('file:///C:/Users/AIDOO K. '\n",
       "  'ENOCH/Documents/GitHub/RGT/MLOPS/mlruns/1/8460feb4ddfe4cd38df1b846943a1a5f/artifacts/model'), status='READY', status_message=None, tags={'model': 'xgboost2'}, user_id=None, version=2>,\n",
       "  <ModelVersion: aliases=[], creation_timestamp=1703812349799, current_stage='None', description=None, last_updated_timestamp=1703812349799, name='nyc-taxi-regressor', run_id='7c800b7172894cc786cbe70043ff2ad5', run_link=None, source=('file:///C:/Users/AIDOO K. '\n",
       "  'ENOCH/Documents/GitHub/RGT/MLOPS/mlruns/1/7c800b7172894cc786cbe70043ff2ad5/artifacts/model'), status='READY', status_message=None, tags={}, user_id=None, version=3>], name='nyc-taxi-regressor', tags={}>]"
      ]
     },
     "execution_count": 20,
     "metadata": {},
     "output_type": "execute_result"
    }
   ],
   "source": [
    "client.search_registered_models()"
   ]
  },
  {
   "cell_type": "code",
   "execution_count": 26,
   "id": "685a833d-f4ea-4f88-a0ad-875e80bf0ea7",
   "metadata": {},
   "outputs": [
    {
     "name": "stderr",
     "output_type": "stream",
     "text": [
      "C:\\Users\\AIDOO K. ENOCH\\AppData\\Local\\Temp\\ipykernel_5784\\2603280560.py:2: FutureWarning: ``mlflow.tracking.client.MlflowClient.get_latest_versions`` is deprecated since 2.9.0. Model registry stages will be removed in a future major release. To learn more about the deprecation of model registry stages, see our migration guide here: https://mlflow.org/docs/2.9.2/model-registry.html#migrating-from-stages\n",
      "  latest_versions = client.get_latest_versions(name=model_name)\n"
     ]
    }
   ],
   "source": [
    "model_name = 'nyc-taxi-regressor'\n",
    "latest_versions = client.get_latest_versions(name=model_name)"
   ]
  },
  {
   "cell_type": "code",
   "execution_count": 27,
   "id": "e3abb100-6612-4c17-8be4-24b80de1e1d0",
   "metadata": {},
   "outputs": [
    {
     "name": "stdout",
     "output_type": "stream",
     "text": [
      "version 1, stage: Staging\n",
      "version 2, stage: Production\n",
      "version 3, stage: None\n"
     ]
    }
   ],
   "source": [
    "for version in latest_versions:\n",
    "    print(f\"version {version.version}, stage: {version.current_stage}\")"
   ]
  },
  {
   "cell_type": "code",
   "execution_count": 36,
   "id": "1d6a1972-e2db-4c64-b351-91b960130fca",
   "metadata": {},
   "outputs": [
    {
     "name": "stderr",
     "output_type": "stream",
     "text": [
      "C:\\Users\\AIDOO K. ENOCH\\AppData\\Local\\Temp\\ipykernel_5784\\4248869892.py:3: FutureWarning: ``mlflow.tracking.client.MlflowClient.transition_model_version_stage`` is deprecated since 2.9.0. Model registry stages will be removed in a future major release. To learn more about the deprecation of model registry stages, see our migration guide here: https://mlflow.org/docs/2.9.2/model-registry.html#migrating-from-stages\n",
      "  client.transition_model_version_stage(\n"
     ]
    },
    {
     "data": {
      "text/plain": [
       "<ModelVersion: aliases=[], creation_timestamp=1703812349799, current_stage='Staging', description='This model version 3 was transitioned to Staging on 2023-12-29', last_updated_timestamp=1703820754611, name='nyc-taxi-regressor', run_id='7c800b7172894cc786cbe70043ff2ad5', run_link=None, source=('file:///C:/Users/AIDOO K. '\n",
       " 'ENOCH/Documents/GitHub/RGT/MLOPS/mlruns/1/7c800b7172894cc786cbe70043ff2ad5/artifacts/model'), status='READY', status_message=None, tags={}, user_id=None, version=3>"
      ]
     },
     "execution_count": 36,
     "metadata": {},
     "output_type": "execute_result"
    }
   ],
   "source": [
    "model_version = 3\n",
    "new_stage = \"Staging\"\n",
    "client.transition_model_version_stage(\n",
    "    name = model_name,\n",
    "    version = model_version,\n",
    "    stage = new_stage,\n",
    "    archive_existing_versions=False\n",
    "    )"
   ]
  },
  {
   "cell_type": "code",
   "execution_count": 35,
   "id": "4350da64-5b46-4a97-9286-2f61446846f3",
   "metadata": {},
   "outputs": [
    {
     "data": {
      "text/plain": [
       "<ModelVersion: aliases=[], creation_timestamp=1703812349799, current_stage='Staging', description='This model version 3 was transitioned to Staging on 2023-12-29', last_updated_timestamp=1703820614025, name='nyc-taxi-regressor', run_id='7c800b7172894cc786cbe70043ff2ad5', run_link=None, source=('file:///C:/Users/AIDOO K. '\n",
       " 'ENOCH/Documents/GitHub/RGT/MLOPS/mlruns/1/7c800b7172894cc786cbe70043ff2ad5/artifacts/model'), status='READY', status_message=None, tags={}, user_id=None, version=3>"
      ]
     },
     "execution_count": 35,
     "metadata": {},
     "output_type": "execute_result"
    }
   ],
   "source": [
    "from datetime import datetime\n",
    "date = datetime.today().date()\n",
    "client.update_model_version(\n",
    "    name = model_name,\n",
    "    version = model_version,\n",
    "    description = f\"This model version {model_version} was transitioned to {new_stage} on {date}\"\n",
    ")"
   ]
  },
  {
   "cell_type": "code",
   "execution_count": 48,
   "id": "f7b7aefb-31dc-4065-ab8a-d86f533a3fc4",
   "metadata": {},
   "outputs": [],
   "source": [
    "from sklearn.metrics import mean_squared_error\n",
    "import pandas as pd\n",
    "\n",
    "\n",
    "def read_dataframe(filename):\n",
    "    df = pd.read_parquet(filename)\n",
    "\n",
    "    df.lpep_dropoff_datetime = pd.to_datetime(df.lpep_dropoff_datetime)\n",
    "    df.lpep_pickup_datetime = pd.to_datetime(df.lpep_pickup_datetime)\n",
    "\n",
    "    df['duration'] = df.lpep_dropoff_datetime - df.lpep_pickup_datetime\n",
    "    df.duration = df.duration.apply(lambda td: td.total_seconds() / 60)\n",
    "\n",
    "    df = df[(df.duration >= 1) & (df.duration <= 60)]\n",
    "\n",
    "    categorical = ['PULocationID', 'DOLocationID']\n",
    "    df[categorical] = df[categorical].astype(str)\n",
    "    \n",
    "    return df\n",
    "\n",
    "\n",
    "def preprocess(df, dv):\n",
    "    df['PU_DO'] = df['PULocationID'] + '_' + df['DOLocationID']\n",
    "    categorical = ['PU_DO']\n",
    "    numerical = ['trip_distance']\n",
    "    train_dicts = df[categorical + numerical].to_dict(orient='records')\n",
    "    return dv.transform(train_dicts)\n",
    "\n",
    "\n",
    "def test_model(name, stage, X_test, y_test):\n",
    "    model = mlflow.pyfunc.load_model(f\"models:/{name}/{stage}\")\n",
    "    y_pred = model.predict(X_test)\n",
    "    return {\"rmse\": mean_squared_error(y_test, y_pred, squared=False)}"
   ]
  },
  {
   "cell_type": "code",
   "execution_count": 49,
   "id": "3cf68fd6-1e54-45d0-9fdc-80fc4e086f48",
   "metadata": {},
   "outputs": [],
   "source": [
    "df = read_dataframe(\"data/green_tripdata_2021-03.parquet\")"
   ]
  },
  {
   "cell_type": "code",
   "execution_count": 51,
   "id": "1621cce2-0d2b-484f-816c-e56994b7d5f4",
   "metadata": {},
   "outputs": [],
   "source": [
    "run_id = \"eb7e043a05c24fa88d057919d46c3435\""
   ]
  },
  {
   "cell_type": "code",
   "execution_count": 52,
   "id": "8be95ebc-3bba-4760-be2f-6208b5d4f0f4",
   "metadata": {},
   "outputs": [
    {
     "data": {
      "application/vnd.jupyter.widget-view+json": {
       "model_id": "bedbd047b60e49fd9a14822caed90076",
       "version_major": 2,
       "version_minor": 0
      },
      "text/plain": [
       "Downloading artifacts:   0%|          | 0/1 [00:00<?, ?it/s]"
      ]
     },
     "metadata": {},
     "output_type": "display_data"
    },
    {
     "data": {
      "text/plain": [
       "'C:\\\\Users\\\\AIDOO K. ENOCH\\\\Documents\\\\GitHub\\\\RGT\\\\MLOPS\\\\preprocessor'"
      ]
     },
     "execution_count": 52,
     "metadata": {},
     "output_type": "execute_result"
    }
   ],
   "source": [
    "client.download_artifacts(run_id=run_id, path='preprocessor', dst_path='.')"
   ]
  },
  {
   "cell_type": "code",
   "execution_count": 53,
   "id": "cc1685cd-43e3-43bb-8218-a31737b82c4d",
   "metadata": {},
   "outputs": [
    {
     "name": "stderr",
     "output_type": "stream",
     "text": [
      "C:\\Users\\AIDOO K. ENOCH\\.conda\\envs\\exp-tracking-env\\lib\\site-packages\\sklearn\\base.py:348: InconsistentVersionWarning: Trying to unpickle estimator DictVectorizer from version 1.3.0 when using version 1.3.2. This might lead to breaking code or invalid results. Use at your own risk. For more info please refer to:\n",
      "https://scikit-learn.org/stable/model_persistence.html#security-maintainability-limitations\n",
      "  warnings.warn(\n"
     ]
    }
   ],
   "source": [
    "import pickle\n",
    "\n",
    "with open(\"preprocessor/preprocessor.b\", \"rb\") as f_in:\n",
    "    dv = pickle.load(f_in)"
   ]
  },
  {
   "cell_type": "code",
   "execution_count": 54,
   "id": "01edb1d8-da66-40ca-aa6d-da8275be621e",
   "metadata": {},
   "outputs": [],
   "source": [
    "X_test = preprocess(df, dv)"
   ]
  },
  {
   "cell_type": "code",
   "execution_count": 55,
   "id": "37906783-215a-4399-bd81-c9ac7271fc19",
   "metadata": {},
   "outputs": [],
   "source": [
    "target = \"duration\"\n",
    "y_test = df[target].values"
   ]
  },
  {
   "cell_type": "code",
   "execution_count": 62,
   "id": "bff6551f-5bee-4cb1-b6fd-2a3e53b6f8fc",
   "metadata": {},
   "outputs": [
    {
     "name": "stderr",
     "output_type": "stream",
     "text": [
      "C:\\Users\\AIDOO K. ENOCH\\.conda\\envs\\exp-tracking-env\\lib\\site-packages\\mlflow\\store\\artifact\\utils\\models.py:32: FutureWarning: ``mlflow.tracking.client.MlflowClient.get_latest_versions`` is deprecated since 2.9.0. Model registry stages will be removed in a future major release. To learn more about the deprecation of model registry stages, see our migration guide here: https://mlflow.org/docs/2.9.2/model-registry.html#migrating-from-stages\n",
      "  latest = client.get_latest_versions(name, None if stage is None else [stage])\n",
      "C:\\Users\\AIDOO K. ENOCH\\.conda\\envs\\exp-tracking-env\\lib\\site-packages\\xgboost\\core.py:160: UserWarning: [04:01:37] WARNING: C:\\buildkite-agent\\builds\\buildkite-windows-cpu-autoscaling-group-i-0750514818a16474a-1\\xgboost\\xgboost-ci-windows\\src\\objective\\regression_obj.cu:209: reg:linear is now deprecated in favor of reg:squarederror.\n",
      "  warnings.warn(smsg, UserWarning)\n"
     ]
    },
    {
     "name": "stdout",
     "output_type": "stream",
     "text": [
      "CPU times: total: 26.7 s\n",
      "Wall time: 4.69 s\n"
     ]
    },
    {
     "data": {
      "text/plain": [
       "{'rmse': 6.274500632325015}"
      ]
     },
     "execution_count": 62,
     "metadata": {},
     "output_type": "execute_result"
    }
   ],
   "source": [
    "%time test_model(name=model_name, stage=\"Staging\", X_test=X_test, y_test=y_test)"
   ]
  },
  {
   "cell_type": "code",
   "execution_count": 63,
   "id": "42a7129f-8341-4b48-b338-350ccc042026",
   "metadata": {},
   "outputs": [
    {
     "name": "stderr",
     "output_type": "stream",
     "text": [
      "C:\\Users\\AIDOO K. ENOCH\\AppData\\Local\\Temp\\ipykernel_5784\\1316468422.py:1: FutureWarning: ``mlflow.tracking.client.MlflowClient.transition_model_version_stage`` is deprecated since 2.9.0. Model registry stages will be removed in a future major release. To learn more about the deprecation of model registry stages, see our migration guide here: https://mlflow.org/docs/2.9.2/model-registry.html#migrating-from-stages\n",
      "  client.transition_model_version_stage(\n"
     ]
    },
    {
     "data": {
      "text/plain": [
       "<ModelVersion: aliases=[], creation_timestamp=1703809851967, current_stage='Production', description='', last_updated_timestamp=1703822508667, name='nyc-taxi-regressor', run_id='eb7e043a05c24fa88d057919d46c3435', run_link='', source=('file:///C:/Users/AIDOO K. '\n",
       " 'ENOCH/Documents/GitHub/RGT/MLOPS/mlruns/1/eb7e043a05c24fa88d057919d46c3435/artifacts/models_mlflow'), status='READY', status_message=None, tags={'model': 'xgboost'}, user_id=None, version=1>"
      ]
     },
     "execution_count": 63,
     "metadata": {},
     "output_type": "execute_result"
    }
   ],
   "source": [
    "client.transition_model_version_stage(\n",
    "    name=model_name,\n",
    "    version=1,\n",
    "    stage=\"Production\",\n",
    "    archive_existing_versions=True\n",
    ")"
   ]
  },
  {
   "cell_type": "code",
   "execution_count": null,
   "id": "3f30203d-3f9d-4f29-b1f1-c0a4e6203e10",
   "metadata": {},
   "outputs": [],
   "source": []
  }
 ],
 "metadata": {
  "kernelspec": {
   "display_name": "Python 3 (ipykernel)",
   "language": "python",
   "name": "python3"
  },
  "language_info": {
   "codemirror_mode": {
    "name": "ipython",
    "version": 3
   },
   "file_extension": ".py",
   "mimetype": "text/x-python",
   "name": "python",
   "nbconvert_exporter": "python",
   "pygments_lexer": "ipython3",
   "version": "3.9.18"
  }
 },
 "nbformat": 4,
 "nbformat_minor": 5
}
