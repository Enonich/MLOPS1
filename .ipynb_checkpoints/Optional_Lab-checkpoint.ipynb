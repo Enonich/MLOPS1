{
 "cells": [
  {
   "cell_type": "code",
   "execution_count": 1,
   "id": "5a71c9a6-dfc8-4df7-8c4d-b547b9281ffc",
   "metadata": {},
   "outputs": [],
   "source": [
    "# import dependencies\n",
    "import pandas as pd\n",
    "import seaborn as sns\n",
    "import pickle\n",
    "import matplotlib.pyplot as plt\n",
    "from sklearn.feature_extraction import DictVectorizer\n",
    "from sklearn.linear_model import LinearRegression, Lasso, Ridge\n",
    "from sklearn.metrics import mean_squared_error, r2_score\n",
    "\n",
    "import mlflow"
   ]
  },
  {
   "cell_type": "code",
   "execution_count": 3,
   "id": "c5699a92-d5b0-44e0-a848-53460cfd8406",
   "metadata": {},
   "outputs": [
    {
     "name": "stderr",
     "output_type": "stream",
     "text": [
      "2023/12/18 14:49:33 INFO mlflow.tracking.fluent: Experiment with name 'nyc-taxi-experiment' does not exist. Creating a new experiment.\n"
     ]
    },
    {
     "data": {
      "text/plain": [
       "<Experiment: artifact_location='file:///C:/Users/AIDOO K. ENOCH/Documents/GitHub/RGT/MLOPS/mlruns/1', creation_time=1702910973546, experiment_id='1', last_update_time=1702910973546, lifecycle_stage='active', name='nyc-taxi-experiment', tags={}>"
      ]
     },
     "execution_count": 3,
     "metadata": {},
     "output_type": "execute_result"
    }
   ],
   "source": [
    "mlflow.set_tracking_uri(\"sqlite:///mlflow.db\")\n",
    "mlflow.set_experiment(\"nyc-taxi-experiment\")"
   ]
  },
  {
   "cell_type": "code",
   "execution_count": 4,
   "id": "d409e820-b775-439f-92a5-898967e9c472",
   "metadata": {},
   "outputs": [],
   "source": [
    "# A function for reading the dataset\n",
    "# Returns a dataframe\n",
    "def read_dataframe(filename):\n",
    "    df = pd.read_parquet(filename) \n",
    "\n",
    "    df['lpep_dropoff_datetime']= pd.to_datetime(df.lpep_dropoff_datetime)\n",
    "    df['lpep_pickup_datetime'] = pd.to_datetime(df.lpep_pickup_datetime)\n",
    "    \n",
    "    df['duration'] = df.lpep_dropoff_datetime - df.lpep_pickup_datetime\n",
    "    df.duration = df.duration.apply(lambda x: x.total_seconds() / 60)\n",
    "    \n",
    "    df = df[(df.duration >= 1) & (df.duration <= 60)]\n",
    "    \n",
    "    categorical = ['PULocationID', 'DOLocationID']\n",
    "    numerical   = ['trip_distance']\n",
    "    \n",
    "    df[categorical] = df[categorical].astype(str)\n",
    "\n",
    "    return df"
   ]
  },
  {
   "cell_type": "code",
   "execution_count": 5,
   "id": "40fd2edc-7819-4c7c-b221-90bce063070c",
   "metadata": {},
   "outputs": [],
   "source": [
    "# Receive the dataframe \n",
    "df_train = read_dataframe('data/green_tripdata_2021-01.parquet')\n",
    "df_val   = read_dataframe('data/green_tripdata_2021-02.parquet')"
   ]
  },
  {
   "cell_type": "code",
   "execution_count": 6,
   "id": "8dac05bc-754a-4eb6-856d-437dee68181c",
   "metadata": {},
   "outputs": [
    {
     "data": {
      "text/plain": [
       "(73908, 61921)"
      ]
     },
     "execution_count": 6,
     "metadata": {},
     "output_type": "execute_result"
    }
   ],
   "source": [
    "len(df_train), len(df_val)"
   ]
  },
  {
   "cell_type": "code",
   "execution_count": 7,
   "id": "a575a663-6044-4a0d-9931-2ab65c2897fa",
   "metadata": {},
   "outputs": [],
   "source": [
    "# Create a new column 'PU_DO'\n",
    "df_train['PU_DO'] = df_train['PULocationID'] + '_' + df_train['DOLocationID']\n",
    "df_val['PU_DO'] = df_val['PULocationID'] + '_' + df_val['DOLocationID']"
   ]
  },
  {
   "cell_type": "code",
   "execution_count": 8,
   "id": "4783326c-2796-4bbe-b8e4-07685deaf130",
   "metadata": {},
   "outputs": [],
   "source": [
    "# Performs one-hot encoding of the categorical variables\n",
    "categorical = ['PU_DO'] #'PULocationID', 'DOLocationID']\n",
    "numerical = ['trip_distance']\n",
    "\n",
    "dv = DictVectorizer()\n",
    "\n",
    "train_dicts = df_train[categorical + numerical].to_dict(orient='records')\n",
    "X_train = dv.fit_transform(train_dicts)\n",
    "\n",
    "val_dicts = df_val[categorical + numerical].to_dict(orient='records')\n",
    "X_val = dv.transform(val_dicts)"
   ]
  },
  {
   "cell_type": "code",
   "execution_count": 9,
   "id": "d0c688de-6418-403b-b9c7-fc51a8119c00",
   "metadata": {},
   "outputs": [],
   "source": [
    "# Extract the target variables\n",
    "y_train = df_train['duration'].values\n",
    "y_val   = df_val['duration'].values"
   ]
  },
  {
   "cell_type": "code",
   "execution_count": 20,
   "id": "2cf75d74-48e4-4053-a9e6-86fe09b67b85",
   "metadata": {},
   "outputs": [
    {
     "name": "stdout",
     "output_type": "stream",
     "text": [
      "train mse score: 5.6995641181989765\n",
      "train r2-score: 0.7570393923885601\n",
      "\n",
      "val_rmse:  7.758715203341164\n",
      "\n",
      "val_r2:  0.5937204154722253\n"
     ]
    }
   ],
   "source": [
    "# Defines and train the model\n",
    "with mlflow.start_run():\n",
    "    lr = LinearRegression()\n",
    "    lr.fit(X_train, y_train)\n",
    "\n",
    "    # Setting developer tag\n",
    "    mlflow.set_tag(\"developer\", 'Enoch')\n",
    "\n",
    "    # Set parameter for dataset\n",
    "    mlflow.log_param(\"train_data path\", \"data/green_tripdata_2021-01.parquet\")\n",
    "    mlflow.log_param(\"valid_data path\", \"data/green_tripdata_2021-02.parquet\")\n",
    "    \n",
    "    # Predictions\n",
    "    y_pred = lr.predict(X_train)\n",
    "    val_pred = lr.predict(X_val)\n",
    "\n",
    "    # Train metrics Calculation\n",
    "    train_rmse = mean_squared_error(y_train, y_pred, squared=False)\n",
    "    train_r2   = r2_score(y_train, y_pred)\n",
    "    \n",
    "    # Validation metrics calculation\n",
    "    val_rmse = mean_squared_error(y_val, val_pred, squared=False)\n",
    "    val_r2   = r2_score(y_val, val_pred)\n",
    "    \n",
    "    # mlflow tracking\n",
    "    mlflow.log_metric(\"train_rmse\", train_rmse)\n",
    "    mlflow.log_metric(\"train_r2-score\", train_r2)\n",
    "    mlflow.log_metric(\"valid_rmse\", val_rmse)\n",
    "    mlflow.log_metric(\"valid-r2\", val_r2)\n",
    "\n",
    "    # Metrics printing\n",
    "    print('train mse score:',train_rmse)\n",
    "    print('train r2-score:', train_r2)\n",
    "    \n",
    "    print('\\nval_rmse: ', val_rmse)\n",
    "    print('\\nval_r2: ', val_r2)\n"
   ]
  },
  {
   "cell_type": "code",
   "execution_count": 19,
   "id": "9bd6a45a-61f9-4995-8c4a-a56736e961d6",
   "metadata": {},
   "outputs": [
    {
     "name": "stdout",
     "output_type": "stream",
     "text": [
      "train mse score: 10.550479040582232\n",
      "train r2-score: 0.16747566728208985\n",
      "\n",
      " val_rmse:  11.167275941179728\n",
      "\n",
      " val_r2:  0.1583338259346373\n"
     ]
    }
   ],
   "source": [
    "# Defining mlflow track-keeping\n",
    "with mlflow.start_run():\n",
    "    \n",
    "    mlflow.set_tag(\"developer\", 'Enoch')\n",
    "\n",
    "    mlflow.log_param(\"train_data path\", \"data/green_tripdata_2021-01.parquet\")\n",
    "    mlflow.log_param(\"valid_data path\", \"data/green_tripdata_2021-02.parquet\")\n",
    "    \n",
    "    alpha = 0.0001\n",
    "    mlflow.log_param('alpha', alpha)\n",
    "    \n",
    "    # with LASSO Regularization\n",
    "    lr = Lasso(alpha=alpha)\n",
    "    lr.fit(X_train, y_train)\n",
    "\n",
    "    # Predictions\n",
    "    y_pred = lr.predict(X_train)\n",
    "    val_pred = lr.predict(X_val)\n",
    "\n",
    "    # Train metrics Calculation\n",
    "    train_rmse = mean_squared_error(y_train, y_pred, squared=False)\n",
    "    train_r2   = r2_score(y_train, y_pred)\n",
    "    \n",
    "    # Validation metrics calculation\n",
    "    val_rmse = mean_squared_error(y_val, val_pred, squared=False)\n",
    "    val_r2   = r2_score(y_val, val_pred)\n",
    "    \n",
    "    # mlflow tracking\n",
    "    mlflow.log_metric(\"train_rmse\", train_rmse)\n",
    "    mlflow.log_metric(\"train_r2-score\", train_r2)\n",
    "    mlflow.log_metric(\"valid_rmse\", val_rmse)\n",
    "    mlflow.log_metric(\"valid-r2\", val_r2)\n",
    "\n",
    "\n",
    "    # Metrics printing\n",
    "    print('train mse score:',train_rmse)\n",
    "    print('train r2-score:', train_r2)\n",
    "    \n",
    "    print('\\nval_rmse: ', val_rmse)\n",
    "    print('\\nval_r2: ', val_r2)\n",
    "    "
   ]
  },
  {
   "cell_type": "code",
   "execution_count": 18,
   "id": "47c183ba-1fc1-4d79-9166-c0642373503d",
   "metadata": {},
   "outputs": [
    {
     "name": "stdout",
     "output_type": "stream",
     "text": [
      "train mse score: 4.944550134760984\n",
      "train r2-score: 0.817145291823711\n",
      "\n",
      " val_rmse:  7.510909603240781\n",
      "\n",
      " val_r2:  0.6192582965973402\n"
     ]
    }
   ],
   "source": [
    "with mlflow.start_run():\n",
    "    \n",
    "    mlflow.set_tag(\"developer\", 'Enoch')\n",
    "\n",
    "    mlflow.log_param(\"train_data path\", \"data/green_tripdata_2021-01.parquet\")\n",
    "    mlflow.log_param(\"valid_data path\", \"data/green_tripdata_2021-02.parquet\")\n",
    "    \n",
    "    alpha = 0.001\n",
    "    mlflow.log_param('alpha', alpha)\n",
    "\n",
    "    # with RIDGE Regularization\n",
    "    lr = Ridge(alpha=alpha)\n",
    "    lr.fit(X_train, y_train)\n",
    "\n",
    "    # Predictions\n",
    "    y_pred = lr.predict(X_train)\n",
    "    val_pred = lr.predict(X_val)\n",
    "\n",
    "    # Train metrics Calculation\n",
    "    train_rmse = mean_squared_error(y_train, y_pred, squared=False)\n",
    "    train_r2   = r2_score(y_train, y_pred)\n",
    "    \n",
    "    # Validation metrics calculation\n",
    "    val_rmse = mean_squared_error(y_val, val_pred, squared=False)\n",
    "    val_r2   = r2_score(y_val, val_pred)\n",
    "    \n",
    "    # mlflow tracking\n",
    "    mlflow.log_metric(\"train_rmse\", train_rmse)\n",
    "    mlflow.log_metric(\"train_r2-score\", train_r2)\n",
    "    mlflow.log_metric(\"valid_rmse\", val_rmse)\n",
    "    mlflow.log_metric(\"valid-r2\", val_r2)\n",
    "\n",
    "\n",
    "    # Metrics printing\n",
    "    print('train mse score:',train_rmse)\n",
    "    print('train r2-score:', train_r2)\n",
    "    \n",
    "    print('\\n val_rmse: ', val_rmse)\n",
    "    print('\\n val_r2: ', val_r2)"
   ]
  },
  {
   "cell_type": "code",
   "execution_count": 12,
   "id": "e36166ff-fd08-4c98-bc12-32ba16c5df32",
   "metadata": {},
   "outputs": [],
   "source": [
    "with open('model/lr1.bin', 'wb' ) as file:\n",
    "    pickle.dump((dv, lr), file)"
   ]
  },
  {
   "cell_type": "code",
   "execution_count": null,
   "id": "de1dc1eb-0491-4d86-8b3e-100d78a06b4e",
   "metadata": {},
   "outputs": [],
   "source": []
  },
  {
   "cell_type": "code",
   "execution_count": 21,
   "id": "4ae7ebe4-9e29-4730-8677-1c8f3e217edb",
   "metadata": {},
   "outputs": [],
   "source": [
    "import xgboost as xgb\n",
    "\n",
    "from hyperopt import fmin, tpe, hp, STATUS_OK, Trials\n",
    "from hyperopt.pyll import scope"
   ]
  },
  {
   "cell_type": "code",
   "execution_count": null,
   "id": "7953e8a4-bbb0-491e-b3fe-c12ad829fa71",
   "metadata": {},
   "outputs": [],
   "source": []
  },
  {
   "cell_type": "code",
   "execution_count": null,
   "id": "0d73394a-684a-4ec7-921c-48acb1709dec",
   "metadata": {},
   "outputs": [],
   "source": []
  },
  {
   "cell_type": "code",
   "execution_count": null,
   "id": "9f2741b6-1613-45f0-aab2-45bb8bbfe74d",
   "metadata": {},
   "outputs": [],
   "source": []
  },
  {
   "cell_type": "code",
   "execution_count": null,
   "id": "049b902d-9711-4f59-aaac-0f5c675a9bcd",
   "metadata": {},
   "outputs": [],
   "source": []
  },
  {
   "cell_type": "code",
   "execution_count": null,
   "id": "90d0eb0d-f769-47a9-9cf5-de429209c6bf",
   "metadata": {},
   "outputs": [],
   "source": []
  },
  {
   "cell_type": "code",
   "execution_count": null,
   "id": "417f792b-bdbb-4eff-a763-a925ec254567",
   "metadata": {},
   "outputs": [],
   "source": []
  },
  {
   "cell_type": "code",
   "execution_count": null,
   "id": "bf8435de-71a9-4d4a-a0a2-7ad0660514b1",
   "metadata": {},
   "outputs": [],
   "source": []
  },
  {
   "cell_type": "code",
   "execution_count": null,
   "id": "cdc72c1b-71ea-44de-8da7-641c973aa0d8",
   "metadata": {},
   "outputs": [],
   "source": []
  },
  {
   "cell_type": "code",
   "execution_count": null,
   "id": "cd9507e9-cfbc-4a03-802d-822693b5211e",
   "metadata": {},
   "outputs": [],
   "source": []
  },
  {
   "cell_type": "code",
   "execution_count": null,
   "id": "e318e35a-b57f-46e2-93ac-4403aeadb370",
   "metadata": {},
   "outputs": [],
   "source": []
  }
 ],
 "metadata": {
  "kernelspec": {
   "display_name": "Python 3 (ipykernel)",
   "language": "python",
   "name": "python3"
  },
  "language_info": {
   "codemirror_mode": {
    "name": "ipython",
    "version": 3
   },
   "file_extension": ".py",
   "mimetype": "text/x-python",
   "name": "python",
   "nbconvert_exporter": "python",
   "pygments_lexer": "ipython3",
   "version": "3.11.4"
  }
 },
 "nbformat": 4,
 "nbformat_minor": 5
}
