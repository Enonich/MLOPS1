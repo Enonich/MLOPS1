{
 "cells": [
  {
   "cell_type": "code",
   "execution_count": 1,
   "id": "5a71c9a6-dfc8-4df7-8c4d-b547b9281ffc",
   "metadata": {},
   "outputs": [],
   "source": [
    "# import dependencies\n",
    "import pandas as pd\n",
    "import seaborn as sns\n",
    "import pickle\n",
    "import matplotlib.pyplot as plt\n",
    "from sklearn.feature_extraction import DictVectorizer\n",
    "from sklearn.linear_model import LinearRegression, Lasso, Ridge\n",
    "from sklearn.metrics import mean_squared_error, r2_score"
   ]
  },
  {
   "cell_type": "code",
   "execution_count": 2,
   "id": "d409e820-b775-439f-92a5-898967e9c472",
   "metadata": {},
   "outputs": [],
   "source": [
    "# A function for reading the dataset\n",
    "# Returns a dataframe\n",
    "def read_dataframe(filename):\n",
    "    df = pd.read_parquet(filename) \n",
    "\n",
    "    df['lpep_dropoff_datetime']= pd.to_datetime(df.lpep_dropoff_datetime)\n",
    "    df['lpep_pickup_datetime'] = pd.to_datetime(df.lpep_pickup_datetime)\n",
    "    \n",
    "    df['duration'] = df.lpep_dropoff_datetime - df.lpep_pickup_datetime\n",
    "    df.duration = df.duration.apply(lambda x: x.total_seconds() / 60)\n",
    "    \n",
    "    df = df[(df.duration >= 1) & (df.duration <= 60)]\n",
    "    \n",
    "    categorical = ['PULocationID', 'DOLocationID']\n",
    "    numerical   = ['trip_distance']\n",
    "    \n",
    "    df[categorical] = df[categorical].astype(str)\n",
    "\n",
    "    return df"
   ]
  },
  {
   "cell_type": "code",
   "execution_count": 3,
   "id": "40fd2edc-7819-4c7c-b221-90bce063070c",
   "metadata": {},
   "outputs": [],
   "source": [
    "# Receive the dataframe \n",
    "df_train = read_dataframe('data/green_tripdata_2021-01.parquet')\n",
    "df_val   = read_dataframe('data/green_tripdata_2021-02.parquet')"
   ]
  },
  {
   "cell_type": "code",
   "execution_count": 4,
   "id": "8dac05bc-754a-4eb6-856d-437dee68181c",
   "metadata": {},
   "outputs": [
    {
     "data": {
      "text/plain": [
       "(73908, 61921)"
      ]
     },
     "execution_count": 4,
     "metadata": {},
     "output_type": "execute_result"
    }
   ],
   "source": [
    "len(df_train), len(df_val)"
   ]
  },
  {
   "cell_type": "code",
   "execution_count": 6,
   "id": "a575a663-6044-4a0d-9931-2ab65c2897fa",
   "metadata": {},
   "outputs": [],
   "source": [
    "# Create a new column 'PU_DO'\n",
    "df_train['PU_DO'] = df_train['PULocationID'] + '_' + df_train['DOLocationID']\n",
    "df_val['PU_DO'] = df_val['PULocationID'] + '_' + df_val['DOLocationID']"
   ]
  },
  {
   "cell_type": "code",
   "execution_count": 7,
   "id": "4783326c-2796-4bbe-b8e4-07685deaf130",
   "metadata": {},
   "outputs": [],
   "source": [
    "# Performs one-hot encoding of the categorical variables\n",
    "categorical = ['PU_DO'] #'PULocationID', 'DOLocationID']\n",
    "numerical = ['trip_distance']\n",
    "\n",
    "dv = DictVectorizer()\n",
    "\n",
    "train_dicts = df_train[categorical + numerical].to_dict(orient='records')\n",
    "X_train = dv.fit_transform(train_dicts)\n",
    "\n",
    "val_dicts = df_val[categorical + numerical].to_dict(orient='records')\n",
    "X_val = dv.transform(val_dicts)"
   ]
  },
  {
   "cell_type": "code",
   "execution_count": 8,
   "id": "d0c688de-6418-403b-b9c7-fc51a8119c00",
   "metadata": {},
   "outputs": [],
   "source": [
    "# Extract the target variables\n",
    "y_train = df_train['duration'].values\n",
    "y_val   = df_val['duration'].values"
   ]
  },
  {
   "cell_type": "code",
   "execution_count": 9,
   "id": "2cf75d74-48e4-4053-a9e6-86fe09b67b85",
   "metadata": {},
   "outputs": [
    {
     "name": "stdout",
     "output_type": "stream",
     "text": [
      "mse score: 5.6995641181989765\n",
      "r2-score: 0.7570393923885601\n",
      "\n",
      " val pred:  7.758715203341164\n"
     ]
    }
   ],
   "source": [
    "# Defines and train the model\n",
    "lr = LinearRegression()\n",
    "lr.fit(X_train, y_train)\n",
    "\n",
    "y_pred = lr.predict(X_train)\n",
    "val_pred = lr.predict(X_val)\n",
    "\n",
    "print('mse score:', mean_squared_error(y_train, y_pred, squared=False))\n",
    "print('r2-score:', r2_score(y_train, y_pred))\n",
    "\n",
    "print('\\n val pred: ', mean_squared_error(y_val, val_pred, squared=False))"
   ]
  },
  {
   "cell_type": "code",
   "execution_count": 10,
   "id": "9bd6a45a-61f9-4995-8c4a-a56736e961d6",
   "metadata": {},
   "outputs": [
    {
     "name": "stdout",
     "output_type": "stream",
     "text": [
      "mse score: 5.108197838551504\n",
      "r2-score: 0.8048412644602487\n",
      "\n",
      " val pred:  7.616617761096093\n"
     ]
    }
   ],
   "source": [
    "# with LASSO Regularization\n",
    "lr = Lasso(alpha=0.0001)\n",
    "lr.fit(X_train, y_train)\n",
    "\n",
    "y_pred = lr.predict(X_train)\n",
    "val_pred = lr.predict(X_val)\n",
    "\n",
    "print('mse score:', mean_squared_error(y_train, y_pred, squared=False))\n",
    "print('r2-score:', r2_score(y_train, y_pred))\n",
    "\n",
    "print('\\n val pred: ', mean_squared_error(y_val, val_pred, squared=False))"
   ]
  },
  {
   "cell_type": "code",
   "execution_count": 11,
   "id": "47c183ba-1fc1-4d79-9166-c0642373503d",
   "metadata": {},
   "outputs": [
    {
     "name": "stdout",
     "output_type": "stream",
     "text": [
      "mse score: 4.944550134760984\n",
      "r2-score: 0.817145291823711\n",
      "\n",
      " val pred:  7.510909603240781\n"
     ]
    }
   ],
   "source": [
    "# with RIDGE Regularization\n",
    "lr = Ridge(alpha=0.001)\n",
    "lr.fit(X_train, y_train)\n",
    "\n",
    "y_pred = lr.predict(X_train)\n",
    "val_pred = lr.predict(X_val)\n",
    "\n",
    "print('mse score:', mean_squared_error(y_train, y_pred, squared=False))\n",
    "print('r2-score:', r2_score(y_train, y_pred))\n",
    "\n",
    "print('\\n val pred: ', mean_squared_error(y_val, val_pred, squared=False))"
   ]
  },
  {
   "cell_type": "code",
   "execution_count": null,
   "id": "e36166ff-fd08-4c98-bc12-32ba16c5df32",
   "metadata": {},
   "outputs": [],
   "source": [
    "with open('model/lr1.bin', 'wb' ) as file:\n",
    "    pickle.dump((dv, lr), file)"
   ]
  },
  {
   "cell_type": "code",
   "execution_count": null,
   "id": "de1dc1eb-0491-4d86-8b3e-100d78a06b4e",
   "metadata": {},
   "outputs": [],
   "source": []
  },
  {
   "cell_type": "code",
   "execution_count": null,
   "id": "4ae7ebe4-9e29-4730-8677-1c8f3e217edb",
   "metadata": {},
   "outputs": [],
   "source": []
  },
  {
   "cell_type": "code",
   "execution_count": null,
   "id": "7953e8a4-bbb0-491e-b3fe-c12ad829fa71",
   "metadata": {},
   "outputs": [],
   "source": []
  },
  {
   "cell_type": "code",
   "execution_count": null,
   "id": "0d73394a-684a-4ec7-921c-48acb1709dec",
   "metadata": {},
   "outputs": [],
   "source": []
  },
  {
   "cell_type": "code",
   "execution_count": null,
   "id": "9f2741b6-1613-45f0-aab2-45bb8bbfe74d",
   "metadata": {},
   "outputs": [],
   "source": []
  },
  {
   "cell_type": "code",
   "execution_count": null,
   "id": "049b902d-9711-4f59-aaac-0f5c675a9bcd",
   "metadata": {},
   "outputs": [],
   "source": []
  },
  {
   "cell_type": "code",
   "execution_count": null,
   "id": "90d0eb0d-f769-47a9-9cf5-de429209c6bf",
   "metadata": {},
   "outputs": [],
   "source": []
  },
  {
   "cell_type": "code",
   "execution_count": null,
   "id": "417f792b-bdbb-4eff-a763-a925ec254567",
   "metadata": {},
   "outputs": [],
   "source": []
  },
  {
   "cell_type": "code",
   "execution_count": null,
   "id": "bf8435de-71a9-4d4a-a0a2-7ad0660514b1",
   "metadata": {},
   "outputs": [],
   "source": []
  },
  {
   "cell_type": "code",
   "execution_count": null,
   "id": "cdc72c1b-71ea-44de-8da7-641c973aa0d8",
   "metadata": {},
   "outputs": [],
   "source": []
  },
  {
   "cell_type": "code",
   "execution_count": null,
   "id": "cd9507e9-cfbc-4a03-802d-822693b5211e",
   "metadata": {},
   "outputs": [],
   "source": []
  },
  {
   "cell_type": "code",
   "execution_count": null,
   "id": "e318e35a-b57f-46e2-93ac-4403aeadb370",
   "metadata": {},
   "outputs": [],
   "source": []
  }
 ],
 "metadata": {
  "kernelspec": {
   "display_name": "Python 3 (ipykernel)",
   "language": "python",
   "name": "python3"
  },
  "language_info": {
   "codemirror_mode": {
    "name": "ipython",
    "version": 3
   },
   "file_extension": ".py",
   "mimetype": "text/x-python",
   "name": "python",
   "nbconvert_exporter": "python",
   "pygments_lexer": "ipython3",
   "version": "3.11.4"
  }
 },
 "nbformat": 4,
 "nbformat_minor": 5
}
